{
 "cells": [
  {
   "cell_type": "code",
   "execution_count": 24,
   "metadata": {},
   "outputs": [
    {
     "ename": "SyntaxError",
     "evalue": "invalid syntax (<ipython-input-24-f7e4a80442a8>, line 43)",
     "output_type": "error",
     "traceback": [
      "\u001b[1;36m  File \u001b[1;32m\"<ipython-input-24-f7e4a80442a8>\"\u001b[1;36m, line \u001b[1;32m43\u001b[0m\n\u001b[1;33m    midterm = int(input(\"Please enter the midterm exam grade of \"+chose_course\": \"))\u001b[0m\n\u001b[1;37m                                                                              ^\u001b[0m\n\u001b[1;31mSyntaxError\u001b[0m\u001b[1;31m:\u001b[0m invalid syntax\n"
     ]
    }
   ],
   "source": [
    "true_name=\"şimalözdede\"\n",
    "incorrect = 3\n",
    "while(True):\n",
    "    name = input(\"Please write your name: \")\n",
    "    surname = input(\"Please write your surname: \")\n",
    "    full_name = (name + surname)\n",
    "    if(full_name != true_name):\n",
    "        print(\"Name is not true\")\n",
    "        incorrect-=1\n",
    "        if(incorrect ==0):\n",
    "            print(\"Please try again later.\")\n",
    "            break\n",
    "    else:\n",
    "        break\n",
    "if(incorrect!=0):\n",
    "    lessons_list = [\"Analyze\",\"Digital Circuit\",\"Machine Learning\",\"Phyton\",\"Math\",\"Programming\",\"Artifical Intelligence\"]\n",
    "    student_lessons = list()\n",
    "    print(\"Please choose minimum 3 maximum 5 lessons\")\n",
    "    for i in range(len(lessons_list)):\n",
    "        print(str(i+1) + \"-\"+ lessons_list[i] )\n",
    "    for i in range(len(lessons_list)):\n",
    "        if(len(student_lessons)!=5):\n",
    "            lesson = int(input(str(i+1)))\n",
    "            if(lesson>=0 and lesson<8):\n",
    "                if(lesson ==0 and len(student_lessons)>=3):\n",
    "                    break\n",
    "                elif(lesson ==0 and len(student_lessons)<3):\n",
    "                    print(\"You failed in class\")\n",
    "                    break \n",
    "                student_lessons.append(lessons_list[lesson-1])\n",
    "            else:\n",
    "                print(\"Please select with in the specified range\")\n",
    "        else:\n",
    "            print(\"You can choose maximum 5 lessons\")\n",
    "            break\n",
    "\n",
    "    if(len(student_lessons)>=3):\n",
    "        \n",
    "        for i in range(len(student_lessons)):\n",
    "            print(str(i+1) + \"-\"+ student_lessons[i] )\n",
    "        exam_lesson = int(input(\"Which course do you want to take?\")) \n",
    "        chose_course = student_lessons[exam_lesson-1]\n",
    "        midterm = int(input(\"Please enter the midterm exam grade of \"+chose_course\": \"))\n",
    "        final = int(input(\"Please enter the final exam grade of \"+chose_course \": \"))\n",
    "        project = int(input(\"Please enter the project grade of \"+chose_course \": \"))\n",
    "        grades = (midterm * 0.3) + (final * 0.5) + (project * 0.2)\n",
    "        print(\"Your total grades \"+ str(grades))\n",
    "        if(grades >= 90):\n",
    "            print(\"AA\")\n",
    "        elif(grades >=70 and grades<90):\n",
    "            print(\"BB\")\n",
    "        elif(grades >=50 and grades<70):\n",
    "            print(\"CC\")\n",
    "        elif(grades >=30 and grades<50):\n",
    "            print(\"DD\")\n",
    "        elif(grades <30):\n",
    "            print(\"FF\")\n",
    "            print(\"You are failure\")"
   ]
  },
  {
   "cell_type": "code",
   "execution_count": null,
   "metadata": {},
   "outputs": [],
   "source": []
  },
  {
   "cell_type": "code",
   "execution_count": null,
   "metadata": {},
   "outputs": [],
   "source": []
  }
 ],
 "metadata": {
  "kernelspec": {
   "display_name": "Python 3",
   "language": "python",
   "name": "python3"
  },
  "language_info": {
   "codemirror_mode": {
    "name": "ipython",
    "version": 3
   },
   "file_extension": ".py",
   "mimetype": "text/x-python",
   "name": "python",
   "nbconvert_exporter": "python",
   "pygments_lexer": "ipython3",
   "version": "3.9.1"
  }
 },
 "nbformat": 4,
 "nbformat_minor": 4
}
