{
 "cells": [
  {
   "cell_type": "code",
   "execution_count": null,
   "metadata": {},
   "outputs": [
    {
     "name": "stdin",
     "output_type": "stream",
     "text": [
      "Please write your name? şimal\n"
     ]
    },
    {
     "name": "stdout",
     "output_type": "stream",
     "text": [
      "Welcome şimal\n",
      "__ __ __ __ __ \n"
     ]
    },
    {
     "name": "stdin",
     "output_type": "stream",
     "text": [
      "The character you want to try:  n\n"
     ]
    },
    {
     "name": "stdout",
     "output_type": "stream",
     "text": [
      "n __ __ __ __ \n"
     ]
    },
    {
     "name": "stdin",
     "output_type": "stream",
     "text": [
      "The character you want to try:  a\n"
     ]
    },
    {
     "name": "stdout",
     "output_type": "stream",
     "text": [
      "This character is not found in the word\n",
      "Remaining life: 6\n",
      "\n",
      "n __ __ __ __ \n"
     ]
    },
    {
     "name": "stdin",
     "output_type": "stream",
     "text": [
      "The character you want to try:  e\n"
     ]
    },
    {
     "name": "stdout",
     "output_type": "stream",
     "text": [
      "This character is not found in the word\n",
      "Remaining life: 5\n",
      "\n",
      "n __ __ __ __ \n"
     ]
    },
    {
     "name": "stdin",
     "output_type": "stream",
     "text": [
      "The character you want to try:  s\n"
     ]
    },
    {
     "name": "stdout",
     "output_type": "stream",
     "text": [
      "This character is not found in the word\n",
      "Remaining life: 4\n",
      "\n",
      "n __ __ __ __ \n"
     ]
    },
    {
     "name": "stdin",
     "output_type": "stream",
     "text": [
      "The character you want to try:  l\n"
     ]
    },
    {
     "name": "stdout",
     "output_type": "stream",
     "text": [
      "This character is not found in the word\n",
      "Remaining life: 3\n",
      "\n",
      "n __ __ __ __ \n"
     ]
    },
    {
     "name": "stdin",
     "output_type": "stream",
     "text": [
      "The character you want to try:  k\n"
     ]
    },
    {
     "name": "stdout",
     "output_type": "stream",
     "text": [
      "This character is not found in the word\n",
      "Remaining life: 2\n",
      "\n",
      "n __ __ __ __ \n"
     ]
    },
    {
     "name": "stdin",
     "output_type": "stream",
     "text": [
      "The character you want to try:  m\n"
     ]
    },
    {
     "name": "stdout",
     "output_type": "stream",
     "text": [
      "This character is not found in the word\n",
      "Remaining life: 1\n",
      "\n",
      "n __ __ __ __ \n"
     ]
    },
    {
     "name": "stdin",
     "output_type": "stream",
     "text": [
      "The character you want to try:  t\n"
     ]
    },
    {
     "name": "stdout",
     "output_type": "stream",
     "text": [
      "n __ __ t __ \n"
     ]
    },
    {
     "name": "stdin",
     "output_type": "stream",
     "text": [
      "The character you want to try:  u\n"
     ]
    },
    {
     "name": "stdout",
     "output_type": "stream",
     "text": [
      "This character is not found in the word\n",
      "Remaining life: 0\n",
      "\n",
      "n __ __ t __ \n"
     ]
    }
   ],
   "source": [
    "word = list(\"north\")\n",
    "def print_word(mylist):\n",
    "    guess = \"\"\n",
    "    for i in mylist:\n",
    "       guess += i\n",
    "    print(guess)    \n",
    "name = input(\"Please write your name?\")\n",
    "print(\"Welcome \"+ name)\n",
    "word_list = list()\n",
    "line = \"__ \"\n",
    "for i in word:\n",
    "    word_list.append(space)\n",
    "print_word(word_list)\n",
    "life = 7\n",
    "try_character = list()\n",
    "while(True):\n",
    "    if line not in word_list:\n",
    "        print(\"Congratulations\")\n",
    "        break\n",
    "\n",
    "    character = input(\"The character you want to try: \")\n",
    "    if len(character) ==1 and (character>=\"a\" and character<=\"z\") :\n",
    "        if character not in try_character:\n",
    "            if character in word:   \n",
    "                index = word.index(character)\n",
    "                word_list[index] = character + \" \"\n",
    "                word[index] = \".\"\n",
    "\n",
    "            elif(life == 0):\n",
    "                print(\"Game Over\")\n",
    "                break\n",
    "\n",
    "            else:\n",
    "                print(\"This character is not found in the word\")\n",
    "                life -= 1\n",
    "                print(\"Remaining life: \"+ str(life)+\"\\n\")\n",
    "            print_word(word_list)\n",
    "        else:\n",
    "            print(\"You tried the character before\")\n",
    "        try_character.append(character)\n",
    "\n",
    "    else:\n",
    "        print(\"Please only enter character\")"
   ]
  },
  {
   "cell_type": "code",
   "execution_count": null,
   "metadata": {},
   "outputs": [],
   "source": []
  },
  {
   "cell_type": "code",
   "execution_count": null,
   "metadata": {},
   "outputs": [],
   "source": []
  },
  {
   "cell_type": "code",
   "execution_count": null,
   "metadata": {},
   "outputs": [],
   "source": []
  },
  {
   "cell_type": "code",
   "execution_count": null,
   "metadata": {},
   "outputs": [],
   "source": []
  },
  {
   "cell_type": "code",
   "execution_count": null,
   "metadata": {},
   "outputs": [],
   "source": []
  }
 ],
 "metadata": {
  "kernelspec": {
   "display_name": "Python 3",
   "language": "python",
   "name": "python3"
  },
  "language_info": {
   "codemirror_mode": {
    "name": "ipython",
    "version": 3
   },
   "file_extension": ".py",
   "mimetype": "text/x-python",
   "name": "python",
   "nbconvert_exporter": "python",
   "pygments_lexer": "ipython3",
   "version": "3.9.1"
  }
 },
 "nbformat": 4,
 "nbformat_minor": 4
}
