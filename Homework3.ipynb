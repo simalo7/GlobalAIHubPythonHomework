{
 "cells": [
  {
   "cell_type": "code",
   "execution_count": null,
   "metadata": {},
   "outputs": [],
   "source": [
    "word = list(\"north\")\n",
    "def print_word(mylist):\n",
    "    guess = \"\"\n",
    "    for i in mylist:\n",
    "       guess += i\n",
    "    print(guess)    \n",
    "name = input(\"Please write your name?\\n\")\n",
    "print(\"Welcome \"+ name+\"\\n\")\n",
    "word_list = list()\n",
    "line = \"__ \"\n",
    "for i in word:\n",
    "    word_list.append(space)\n",
    "print_word(word_list)\n",
    "life = 7\n",
    "try_character = list()\n",
    "while(True):\n",
    "    if line not in word_list:\n",
    "        print(\"Congratulations\")\n",
    "        break\n",
    "\n",
    "    character = input(\"The character you want to try: \")\n",
    "    if len(character) ==1 and (character>=\"a\" and character<=\"z\") :\n",
    "        if character not in try_character:\n",
    "            if character in word:   \n",
    "                index = word.index(character)\n",
    "                word_list[index] = character + \" \"\n",
    "                word[index] = \".\"\n",
    "\n",
    "            elif(life == 0):\n",
    "                print(\"Game Over\")\n",
    "                break\n",
    "\n",
    "            else:\n",
    "                print(\"This character is not found in the word\")\n",
    "                life -= 1\n",
    "                print(\"Remaining life: \"+ str(life)+\"\\n\")\n",
    "            print_word(word_list)\n",
    "        else:\n",
    "            print(\"You tried the character before\")\n",
    "        try_character.append(character)\n",
    "\n",
    "    else:\n",
    "        print(\"Please only enter character\")"
   ]
  },
  {
   "cell_type": "code",
   "execution_count": 41,
   "metadata": {},
   "outputs": [
    {
     "name": "stdin",
     "output_type": "stream",
     "text": [
      "Please write your name?\n",
      " dev\n"
     ]
    },
    {
     "name": "stdout",
     "output_type": "stream",
     "text": [
      "Welcome dev\n",
      "\n",
      "__ __ __ __ __ \n"
     ]
    },
    {
     "name": "stdin",
     "output_type": "stream",
     "text": [
      "The character you want to try:  d\n"
     ]
    },
    {
     "name": "stdout",
     "output_type": "stream",
     "text": [
      "This character is not found in the word\n",
      "Remaining life: 6\n",
      "\n",
      "__ __ __ __ __ \n"
     ]
    },
    {
     "name": "stdin",
     "output_type": "stream",
     "text": [
      "The character you want to try:  b\n"
     ]
    },
    {
     "name": "stdout",
     "output_type": "stream",
     "text": [
      "This character is not found in the word\n",
      "Remaining life: 5\n",
      "\n",
      "__ __ __ __ __ \n"
     ]
    },
    {
     "name": "stdin",
     "output_type": "stream",
     "text": [
      "The character you want to try:  v\n"
     ]
    },
    {
     "name": "stdout",
     "output_type": "stream",
     "text": [
      "This character is not found in the word\n",
      "Remaining life: 4\n",
      "\n",
      "__ __ __ __ __ \n"
     ]
    },
    {
     "name": "stdin",
     "output_type": "stream",
     "text": [
      "The character you want to try:  f\n"
     ]
    },
    {
     "name": "stdout",
     "output_type": "stream",
     "text": [
      "This character is not found in the word\n",
      "Remaining life: 3\n",
      "\n",
      "__ __ __ __ __ \n"
     ]
    },
    {
     "name": "stdin",
     "output_type": "stream",
     "text": [
      "The character you want to try:  d\n"
     ]
    },
    {
     "name": "stdout",
     "output_type": "stream",
     "text": [
      "This character has been tried before\n"
     ]
    },
    {
     "name": "stdin",
     "output_type": "stream",
     "text": [
      "The character you want to try:  n\n"
     ]
    },
    {
     "name": "stdout",
     "output_type": "stream",
     "text": [
      "n __ __ __ __ \n"
     ]
    },
    {
     "name": "stdin",
     "output_type": "stream",
     "text": [
      "The character you want to try:  f\n"
     ]
    },
    {
     "name": "stdout",
     "output_type": "stream",
     "text": [
      "This character has been tried before\n"
     ]
    },
    {
     "name": "stdin",
     "output_type": "stream",
     "text": [
      "The character you want to try:  g\n"
     ]
    },
    {
     "name": "stdout",
     "output_type": "stream",
     "text": [
      "This character is not found in the word\n",
      "Remaining life: 2\n",
      "\n",
      "n __ __ __ __ \n"
     ]
    },
    {
     "name": "stdin",
     "output_type": "stream",
     "text": [
      "The character you want to try:  h\n"
     ]
    },
    {
     "name": "stdout",
     "output_type": "stream",
     "text": [
      "n __ __ __ h \n"
     ]
    },
    {
     "name": "stdin",
     "output_type": "stream",
     "text": [
      "The character you want to try:  n\n"
     ]
    },
    {
     "name": "stdout",
     "output_type": "stream",
     "text": [
      "This character has been tried before\n"
     ]
    },
    {
     "name": "stdin",
     "output_type": "stream",
     "text": [
      "The character you want to try:  t\n"
     ]
    },
    {
     "name": "stdout",
     "output_type": "stream",
     "text": [
      "n __ __ t h \n"
     ]
    },
    {
     "name": "stdin",
     "output_type": "stream",
     "text": [
      "The character you want to try:  e\n"
     ]
    },
    {
     "name": "stdout",
     "output_type": "stream",
     "text": [
      "This character is not found in the word\n",
      "Remaining life: 1\n",
      "\n",
      "n __ __ t h \n"
     ]
    },
    {
     "name": "stdin",
     "output_type": "stream",
     "text": [
      "The character you want to try:  w\n"
     ]
    },
    {
     "name": "stdout",
     "output_type": "stream",
     "text": [
      "This character is not found in the word\n",
      "Remaining life: 0\n",
      "\n",
      "n __ __ t h \n"
     ]
    },
    {
     "name": "stdin",
     "output_type": "stream",
     "text": [
      "The character you want to try:  q\n"
     ]
    },
    {
     "name": "stdout",
     "output_type": "stream",
     "text": [
      "Game Over\n"
     ]
    }
   ],
   "source": []
  },
  {
   "cell_type": "code",
   "execution_count": null,
   "metadata": {},
   "outputs": [],
   "source": []
  },
  {
   "cell_type": "code",
   "execution_count": null,
   "metadata": {},
   "outputs": [],
   "source": []
  },
  {
   "cell_type": "code",
   "execution_count": null,
   "metadata": {},
   "outputs": [],
   "source": []
  },
  {
   "cell_type": "code",
   "execution_count": null,
   "metadata": {},
   "outputs": [],
   "source": []
  }
 ],
 "metadata": {
  "kernelspec": {
   "display_name": "Python 3",
   "language": "python",
   "name": "python3"
  },
  "language_info": {
   "codemirror_mode": {
    "name": "ipython",
    "version": 3
   },
   "file_extension": ".py",
   "mimetype": "text/x-python",
   "name": "python",
   "nbconvert_exporter": "python",
   "pygments_lexer": "ipython3",
   "version": "3.9.1"
  }
 },
 "nbformat": 4,
 "nbformat_minor": 4
}
