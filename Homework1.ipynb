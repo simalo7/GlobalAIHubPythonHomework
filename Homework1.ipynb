{
 "cells": [
  {
   "cell_type": "code",
   "execution_count": 2,
   "metadata": {},
   "outputs": [
    {
     "name": "stdout",
     "output_type": "stream",
     "text": [
      "Please enter 5 values.\n"
     ]
    },
    {
     "name": "stdin",
     "output_type": "stream",
     "text": [
      "Please enter an value 1: 7\n",
      "Please enter an value 2: 75.2\n",
      "Please enter an value 3: simal\n",
      "Please enter an value 4: kedi\n",
      "Please enter an value 5: 1907\n"
     ]
    },
    {
     "name": "stdout",
     "output_type": "stream",
     "text": [
      "7 75.2 simal kedi 1907\n",
      "Type value1: <class 'str'>, Type value2: <class 'str'>, Type value3: <class 'str'>, Type value4: <class 'str'>, Type value5: <class 'str'> \n"
     ]
    }
   ],
   "source": [
    "print(\"Please enter 5 values.\")\n",
    "v1=input(\"Please enter an value 1:\")\n",
    "v2=input(\"Please enter an value 2:\")\n",
    "v3=input(\"Please enter an value 3:\")\n",
    "v4=input(\"Please enter an value 4:\")\n",
    "v5=input(\"Please enter an value 5:\")\n",
    "print(v1, v2, v3, v4, v5)\n",
    "print(\"Type value1: {}, Type value2: {}, Type value3: {}, Type value4: {}, Type value5: {} \".format(type(v1), type(v2), type(v3), type(v4), type(v5)))"
   ]
  },
  {
   "cell_type": "code",
   "execution_count": null,
   "metadata": {},
   "outputs": [],
   "source": []
  },
  {
   "cell_type": "code",
   "execution_count": null,
   "metadata": {},
   "outputs": [],
   "source": []
  },
  {
   "cell_type": "code",
   "execution_count": null,
   "metadata": {},
   "outputs": [],
   "source": []
  },
  {
   "cell_type": "code",
   "execution_count": null,
   "metadata": {},
   "outputs": [],
   "source": []
  },
  {
   "cell_type": "code",
   "execution_count": null,
   "metadata": {},
   "outputs": [],
   "source": []
  },
  {
   "cell_type": "code",
   "execution_count": null,
   "metadata": {},
   "outputs": [],
   "source": []
  }
 ],
 "metadata": {
  "kernelspec": {
   "display_name": "Python 3",
   "language": "python",
   "name": "python3"
  },
  "language_info": {
   "codemirror_mode": {
    "name": "ipython",
    "version": 3
   },
   "file_extension": ".py",
   "mimetype": "text/x-python",
   "name": "python",
   "nbconvert_exporter": "python",
   "pygments_lexer": "ipython3",
   "version": "3.9.1"
  }
 },
 "nbformat": 4,
 "nbformat_minor": 4
}
