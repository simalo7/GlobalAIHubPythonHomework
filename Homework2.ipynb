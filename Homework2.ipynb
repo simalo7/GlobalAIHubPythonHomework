{
 "cells": [
  {
   "cell_type": "code",
   "execution_count": 4,
   "metadata": {},
   "outputs": [
    {
     "name": "stdin",
     "output_type": "stream",
     "text": [
      "First name:  şimal\n",
      "Last name:  özdede\n",
      "Age:  21\n",
      "Date of birth (just year):  1999\n"
     ]
    },
    {
     "name": "stdout",
     "output_type": "stream",
     "text": [
      "You can go out to the street.\n"
     ]
    }
   ],
   "source": [
    "first_name=input(\"First name: \")\n",
    "last_name=input(\"Last name: \")\n",
    "age=int(input(\"Age: \"))\n",
    "year=input(\"Date of birth (just year): \")\n",
    "mylist=[]\n",
    "mylist.append(first_name)\n",
    "mylist.append(last_name)\n",
    "mylist.append(age)\n",
    "mylist.append(year)\n",
    "if age < 18:\n",
    "    print(\"You can't go out because it's too dangerous\")\n",
    "else:\n",
    "    print(\"You can go out to the street.\")"
   ]
  },
  {
   "cell_type": "code",
   "execution_count": null,
   "metadata": {},
   "outputs": [],
   "source": []
  }
 ],
 "metadata": {
  "kernelspec": {
   "display_name": "Python 3",
   "language": "python",
   "name": "python3"
  },
  "language_info": {
   "codemirror_mode": {
    "name": "ipython",
    "version": 3
   },
   "file_extension": ".py",
   "mimetype": "text/x-python",
   "name": "python",
   "nbconvert_exporter": "python",
   "pygments_lexer": "ipython3",
   "version": "3.9.1"
  }
 },
 "nbformat": 4,
 "nbformat_minor": 4
}
