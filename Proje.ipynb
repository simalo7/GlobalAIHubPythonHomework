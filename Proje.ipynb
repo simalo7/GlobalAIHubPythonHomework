{
 "cells": [
  {
   "cell_type": "code",
   "execution_count": 26,
   "metadata": {},
   "outputs": [
    {
     "name": "stdin",
     "output_type": "stream",
     "text": [
      "Please write your name:  şimal\n",
      "Please write your surname:  özdede\n"
     ]
    },
    {
     "name": "stdout",
     "output_type": "stream",
     "text": [
      "Please choose minimum 3 maximum 5 lessons\n",
      "1-Analyze\n",
      "2-Digital Circuit\n",
      "3-Machine Learning\n",
      "4-Phyton\n",
      "5-Math\n",
      "6-Programming\n",
      "7-Artifical Intelligence\n"
     ]
    },
    {
     "name": "stdin",
     "output_type": "stream",
     "text": [
      "1 3\n",
      "2 4\n",
      "3 5\n",
      "4 7\n",
      "5 6\n"
     ]
    },
    {
     "name": "stdout",
     "output_type": "stream",
     "text": [
      "You can choose maximum 5 lessons\n",
      "1-Machine Learning\n",
      "2-Phyton\n",
      "3-Math\n",
      "4-Artifical Intelligence\n",
      "5-Programming\n"
     ]
    },
    {
     "name": "stdin",
     "output_type": "stream",
     "text": [
      "Which course do you want to take? 3\n",
      "Please enter the midterm exam grade of Math:  90\n",
      "Please enter the final exam grade of Math:  85\n",
      "Please enter the project grade of Math:  76\n"
     ]
    },
    {
     "name": "stdout",
     "output_type": "stream",
     "text": [
      "Your total grades 84.7\n",
      "BB\n"
     ]
    }
   ],
   "source": [
    "true_name=\"şimalözdede\"\n",
    "incorrect = 3\n",
    "while(True):\n",
    "    name = input(\"Please write your name: \")\n",
    "    surname = input(\"Please write your surname: \")\n",
    "    full_name = (name + surname)\n",
    "    if(full_name != true_name):\n",
    "        print(\"Name is not true\")\n",
    "        incorrect-=1\n",
    "        if(incorrect ==0):\n",
    "            print(\"Please try again later.\")\n",
    "            break\n",
    "    else:\n",
    "        break\n",
    "if(incorrect!=0):\n",
    "    lessons_list = [\"Analyze\",\"Digital Circuit\",\"Machine Learning\",\"Phyton\",\"Math\",\"Programming\",\"Artifical Intelligence\"]\n",
    "    student_lessons = list()\n",
    "    print(\"Please choose minimum 3 maximum 5 lessons\")\n",
    "    for i in range(len(lessons_list)):\n",
    "        print(str(i+1) + \"-\"+ lessons_list[i] )\n",
    "    for i in range(len(lessons_list)):\n",
    "        if(len(student_lessons)!=5):\n",
    "            lesson = int(input(str(i+1)))\n",
    "            if(lesson>=0 and lesson<8):\n",
    "                if(lesson ==0 and len(student_lessons)>=3):\n",
    "                    break\n",
    "                elif(lesson ==0 and len(student_lessons)<3):\n",
    "                    print(\"You failed in class\")\n",
    "                    break \n",
    "                student_lessons.append(lessons_list[lesson-1])\n",
    "            else:\n",
    "                print(\"Please select with in the specified range\")\n",
    "        else:\n",
    "            print(\"You can choose maximum 5 lessons\")\n",
    "            break\n",
    "\n",
    "    if(len(student_lessons)>=3):\n",
    "        \n",
    "        for i in range(len(student_lessons)):\n",
    "            print(str(i+1) + \"-\"+ student_lessons[i] )\n",
    "        exam_lesson = int(input(\"Which course do you want to take?\")) \n",
    "        chose_course = student_lessons[exam_lesson-1]\n",
    "        midterm = int(input(\"Please enter the midterm exam grade of \"+chose_course+ \": \"))\n",
    "        final = int(input(\"Please enter the final exam grade of \"+chose_course+ \": \"))\n",
    "        project = int(input(\"Please enter the project grade of \"+chose_course+ \": \"))\n",
    "        grades = (midterm * 0.3) + (final * 0.5) + (project * 0.2)\n",
    "        print(\"Your total grades \"+ str(grades))\n",
    "        if(grades >= 90):\n",
    "            print(\"AA\")\n",
    "        elif(grades >=70 and grades<90):\n",
    "            print(\"BB\")\n",
    "        elif(grades >=50 and grades<70):\n",
    "            print(\"CC\")\n",
    "        elif(grades >=30 and grades<50):\n",
    "            print(\"DD\")\n",
    "        elif(grades <30):\n",
    "            print(\"FF\")\n",
    "            print(\"You are failure\")"
   ]
  },
  {
   "cell_type": "code",
   "execution_count": null,
   "metadata": {},
   "outputs": [],
   "source": []
  },
  {
   "cell_type": "code",
   "execution_count": null,
   "metadata": {},
   "outputs": [],
   "source": []
  }
 ],
 "metadata": {
  "kernelspec": {
   "display_name": "Python 3",
   "language": "python",
   "name": "python3"
  },
  "language_info": {
   "codemirror_mode": {
    "name": "ipython",
    "version": 3
   },
   "file_extension": ".py",
   "mimetype": "text/x-python",
   "name": "python",
   "nbconvert_exporter": "python",
   "pygments_lexer": "ipython3",
   "version": "3.9.1"
  }
 },
 "nbformat": 4,
 "nbformat_minor": 4
}
